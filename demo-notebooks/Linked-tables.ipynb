{
 "cells": [
  {
   "cell_type": "markdown",
   "id": "12dabb52-5eef-4a45-98e1-e298d71094d3",
   "metadata": {},
   "source": [
    "### Linked tables implementation"
   ]
  },
  {
   "cell_type": "markdown",
   "id": "9d279829-0215-4983-8528-041c90683a39",
   "metadata": {},
   "source": [
    "Syngen is capable of training multiple related tables sharing a key. The relations between tables should be specified in yaml metadata file."
   ]
  },
  {
   "cell_type": "code",
   "execution_count": 28,
   "id": "78637781-19a3-449d-b4d4-2560c39844e9",
   "metadata": {},
   "outputs": [],
   "source": [
    "import requests\n",
    "import pandas as pd\n",
    "from matplotlib import pyplot as plt"
   ]
  },
  {
   "cell_type": "code",
   "execution_count": 3,
   "id": "ae0fdd6c-bdfa-443a-8d5d-9616173ee87c",
   "metadata": {},
   "outputs": [],
   "source": [
    "dataset_pk = requests.get(\"https://raw.githubusercontent.com/tdspora/syngen/main/example-data/housing_pk.csv\")\n",
    "dataset_fk = requests.get(\"https://raw.githubusercontent.com/tdspora/syngen/main/example-data/housing_fk.csv\")\n",
    "metadata = requests.get(\"https://raw.githubusercontent.com/tdspora/syngen/main/example-data/housing.yml\")"
   ]
  },
  {
   "cell_type": "code",
   "execution_count": 4,
   "id": "607beba0-8937-498d-bd33-fafc0b6271f1",
   "metadata": {},
   "outputs": [],
   "source": [
    "with open(\"housing_pk.csv\", \"w+\") as file:\n",
    "    file.write(dataset_pk.content.decode(\"utf-8\"))\n",
    "with open(\"housing_fk.csv\", \"w+\") as file:\n",
    "    file.write(dataset_fk.content.decode(\"utf-8\"))\n",
    "with open(\"housing.yml\", \"w+\") as file:\n",
    "    file.write(metadata.content.decode(\"utf-8\"))"
   ]
  },
  {
   "cell_type": "markdown",
   "id": "ff204a03-d724-4a9e-a6dc-96b07b93a2b8",
   "metadata": {},
   "source": [
    "Let's inspect the format of metadata file"
   ]
  },
  {
   "cell_type": "code",
   "execution_count": 5,
   "id": "22fce7fe-ad0e-4315-903b-451054ee3ddd",
   "metadata": {},
   "outputs": [],
   "source": [
    "from yaml import load\n",
    "try:\n",
    "    from yaml import CLoader as Loader\n",
    "except ImportError:\n",
    "    from yaml import Loader, Dumper\n",
    "import json"
   ]
  },
  {
   "cell_type": "code",
   "execution_count": 18,
   "id": "b9eda1cb-e1e0-4945-9060-bf5ab0e6eb55",
   "metadata": {},
   "outputs": [
    {
     "name": "stdout",
     "output_type": "stream",
     "text": [
      "{\n",
      "  \"pk_test\": {\n",
      "    \"source\": \"./housing_pk.csv\",\n",
      "    \"train_settings\": {\n",
      "      \"epochs\": 10\n",
      "    },\n",
      "    \"keys\": {\n",
      "      \"house_id\": {\n",
      "        \"type\": \"PK\",\n",
      "        \"columns\": [\n",
      "          \"house_id\"\n",
      "        ]\n",
      "      }\n",
      "    },\n",
      "    \"infer_settings\": {\n",
      "      \"size\": 10000,\n",
      "      \"print_report\": false\n",
      "    }\n",
      "  },\n",
      "  \"fk_test\": {\n",
      "    \"source\": \"./housing_fk.csv\",\n",
      "    \"train_settings\": {\n",
      "      \"epochs\": 10\n",
      "    },\n",
      "    \"keys\": {\n",
      "      \"house_id\": {\n",
      "        \"type\": \"FK\",\n",
      "        \"columns\": [\n",
      "          \"house_id\"\n",
      "        ],\n",
      "        \"references\": {\n",
      "          \"table\": \"pk_test\",\n",
      "          \"columns\": [\n",
      "            \"house_id\"\n",
      "          ]\n",
      "        }\n",
      "      }\n",
      "    },\n",
      "    \"infer_settings\": {\n",
      "      \"size\": 10000,\n",
      "      \"print_report\": false\n",
      "    }\n",
      "  }\n",
      "}\n"
     ]
    }
   ],
   "source": [
    "with open(\"housing.yml\", \"r\") as metadata:\n",
    "    housing_metadata = load(metadata, Loader)\n",
    "\n",
    "# Do this to pretty print the dictionary\n",
    "print(json.dumps(housing_metadata, sort_keys=False, indent=2))"
   ]
  },
  {
   "cell_type": "markdown",
   "id": "494a18bc-1214-41b4-a35a-20a76f4880b7",
   "metadata": {},
   "source": [
    "Also we can ckech the distribution of PK and FK values in the original data."
   ]
  },
  {
   "cell_type": "code",
   "execution_count": 41,
   "id": "d0a41737-49b6-452e-9361-fea7e98352ee",
   "metadata": {},
   "outputs": [
    {
     "data": {
      "text/plain": [
       "<matplotlib.legend.Legend at 0x1f776a1fd00>"
      ]
     },
     "execution_count": 41,
     "metadata": {},
     "output_type": "execute_result"
    },
    {
     "data": {
      "image/png": "[encoded data removed]",
      "text/plain": [
       "<Figure size 432x288 with 1 Axes>"
      ]
     },
     "metadata": {
      "needs_background": "light"
     },
     "output_type": "display_data"
    }
   ],
   "source": [
    "housing_pk = pd.read_csv(\"housing_pk.csv\")\n",
    "housing_fk = pd.read_csv(\"housing_fk.csv\")\n",
    "plt.hist(housing_pk.house_id, alpha=0.3, label=\"pk\")\n",
    "plt.hist(housing_fk.house_id, alpha=0.3, label=\"fk\")\n",
    "plt.legend()"
   ]
  },
  {
   "cell_type": "code",
   "execution_count": 8,
   "id": "a7c0d7d1-38b1-4231-a79e-84ec009fc0c7",
   "metadata": {
    "collapsed": true,
    "jupyter": {
     "outputs_hidden": true
    },
    "tags": []
   },
   "outputs": [
    {
     "name": "stdout",
     "output_type": "stream",
     "text": [
      "Microsoft Windows [Version 10.0.19044.2251]\n",
      "(c) Microsoft Corporation. All rights reserved.\n",
      "\n",
      "C:\\Users\\Pavel_Bobyrev>\n",
      "C:\\Users\\Pavel_Bobyrev>python.exe -m pip install --upgrade pip\n",
      "Requirement already satisfied: pip in c:\\users\\pavel_bobyrev\\appdata\\local\\programs\\python\\python39\\lib\\site-packages (22.3.1)\n",
      "\n",
      "C:\\Users\\Pavel_Bobyrev>pip3 install syngen\n",
      "Collecting syngen\n",
      "  Downloading syngen-0.0.48-py3-none-any.whl (63 kB)\n",
      "     ---------------------------------------- 63.9/63.9 kB 1.1 MB/s eta 0:00:00\n",
      "Requirement already satisfied: attrs==21.4.* in c:\\users\\pavel_bobyrev\\appdata\\local\\programs\\python\\python39\\lib\\site-packages (from syngen) (21.4.0)\n",
      "Requirement already satisfied: tensorflow==2.8.* in c:\\users\\pavel_bobyrev\\appdata\\local\\programs\\python\\python39\\lib\\site-packages (from syngen) (2.8.0)\n",
      "Requirement already satisfied: attr in c:\\users\\pavel_bobyrev\\appdata\\local\\programs\\python\\python39\\lib\\site-packages (from syngen) (0.3.2)\n",
      "Requirement already satisfied: click in c:\\users\\pavel_bobyrev\\appdata\\local\\programs\\python\\python39\\lib\\site-packages (from syngen) (8.1.3)\n",
      "Requirement already satisfied: pandavro==1.7.* in c:\\users\\pavel_bobyrev\\appdata\\local\\programs\\python\\python39\\lib\\site-packages (from syngen) (1.7.1)\n",
      "Requirement already satisfied: keras==2.8.* in c:\\users\\pavel_bobyrev\\appdata\\local\\programs\\python\\python39\\lib\\site-packages (from syngen) (2.8.0)\n",
      "Requirement already satisfied: tqdm==4.64.* in c:\\users\\pavel_bobyrev\\appdata\\local\\programs\\python\\python39\\lib\\site-packages (from syngen) (4.64.0)\n",
      "Requirement already satisfied: matplotlib==3.5.* in c:\\users\\pavel_bobyrev\\appdata\\local\\programs\\python\\python39\\lib\\site-packages (from syngen) (3.5.2)\n",
      "Requirement already satisfied: scikit-learn==1.1.* in c:\\users\\pavel_bobyrev\\appdata\\local\\programs\\python\\python39\\lib\\site-packages (from syngen) (1.1.1)\n",
      "Requirement already satisfied: protobuf==3.19.* in c:\\users\\pavel_bobyrev\\appdata\\local\\programs\\python\\python39\\lib\\site-packages (from syngen) (3.19.4)\n",
      "Requirement already satisfied: loguru in c:\\users\\pavel_bobyrev\\appdata\\local\\programs\\python\\python39\\lib\\site-packages (from syngen) (0.6.0)\n",
      "Requirement already satisfied: scipy==1.7.* in c:\\users\\pavel_bobyrev\\appdata\\local\\programs\\python\\python39\\lib\\site-packages (from syngen) (1.7.1)\n",
      "Requirement already satisfied: PyYAML==6.* in c:\\users\\pavel_bobyrev\\appdata\\local\\programs\\python\\python39\\lib\\site-packages (from syngen) (6.0)\n",
      "Requirement already satisfied: Jinja2 in c:\\users\\pavel_bobyrev\\appdata\\local\\programs\\python\\python39\\lib\\site-packages (from syngen) (3.1.2)\n",
      "Requirement already satisfied: category-encoders==2.5.* in c:\\users\\pavel_bobyrev\\appdata\\local\\programs\\python\\python39\\lib\\site-packages (from syngen) (2.5.0)\n",
      "Requirement already satisfied: numpy==1.20.* in c:\\users\\pavel_bobyrev\\appdata\\local\\programs\\python\\python39\\lib\\site-packages (from syngen) (1.20.0)\n",
      "Requirement already satisfied: schema in c:\\users\\pavel_bobyrev\\appdata\\local\\programs\\python\\python39\\lib\\site-packages (from syngen) (0.7.5)\n",
      "Requirement already satisfied: pathos==0.2.* in c:\\users\\pavel_bobyrev\\appdata\\local\\programs\\python\\python39\\lib\\site-packages (from syngen) (0.2.9)\n",
      "Requirement already satisfied: ipython==8.4.* in c:\\users\\pavel_bobyrev\\appdata\\local\\programs\\python\\python39\\lib\\site-packages (from syngen) (8.4.0)\n",
      "Requirement already satisfied: lazy==1.4 in c:\\users\\pavel_bobyrev\\appdata\\local\\programs\\python\\python39\\lib\\site-packages (from syngen) (1.4)\n",
      "Requirement already satisfied: pandas==1.3.* in c:\\users\\pavel_bobyrev\\appdata\\local\\programs\\python\\python39\\lib\\site-packages (from syngen) (1.3.3)\n",
      "Requirement already satisfied: seaborn==0.11.* in c:\\users\\pavel_bobyrev\\appdata\\local\\programs\\python\\python39\\lib\\site-packages (from syngen) (0.11.2)\n",
      "Requirement already satisfied: statsmodels>=0.9.0 in c:\\users\\pavel_bobyrev\\appdata\\local\\programs\\python\\python39\\lib\\site-packages (from category-encoders==2.5.*->syngen) (0.13.2)\n",
      "Requirement already satisfied: patsy>=0.5.1 in c:\\users\\pavel_bobyrev\\appdata\\local\\programs\\python\\python39\\lib\\site-packages (from category-encoders==2.5.*->syngen) (0.5.2)\n",
      "Requirement already satisfied: setuptools>=18.5 in c:\\users\\pavel_bobyrev\\appdata\\local\\programs\\python\\python39\\lib\\site-packages (from ipython==8.4.*->syngen) (56.0.0)\n",
      "Requirement already satisfied: decorator in c:\\users\\pavel_bobyrev\\appdata\\local\\programs\\python\\python39\\lib\\site-packages (from ipython==8.4.*->syngen) (5.1.1)\n",
      "Requirement already satisfied: colorama in c:\\users\\pavel_bobyrev\\appdata\\local\\programs\\python\\python39\\lib\\site-packages (from ipython==8.4.*->syngen) (0.4.5)\n",
      "Requirement already satisfied: backcall in c:\\users\\pavel_bobyrev\\appdata\\local\\programs\\python\\python39\\lib\\site-packages (from ipython==8.4.*->syngen) (0.2.0)\n",
      "Requirement already satisfied: prompt-toolkit!=3.0.0,!=3.0.1,<3.1.0,>=2.0.0 in c:\\users\\pavel_bobyrev\\appdata\\local\\programs\\python\\python39\\lib\\site-packages (from ipython==8.4.*->syngen) (3.0.30)\n",
      "Requirement already satisfied: matplotlib-inline in c:\\users\\pavel_bobyrev\\appdata\\local\\programs\\python\\python39\\lib\\site-packages (from ipython==8.4.*->syngen) (0.1.3)\n",
      "Requirement already satisfied: pickleshare in c:\\users\\pavel_bobyrev\\appdata\\local\\programs\\python\\python39\\lib\\site-packages (from ipython==8.4.*->syngen) (0.7.5)\n",
      "Requirement already satisfied: jedi>=0.16 in c:\\users\\pavel_bobyrev\\appdata\\local\\programs\\python\\python39\\lib\\site-packages (from ipython==8.4.*->syngen) (0.18.1)\n",
      "Requirement already satisfied: traitlets>=5 in c:\\users\\pavel_bobyrev\\appdata\\local\\programs\\python\\python39\\lib\\site-packages (from ipython==8.4.*->syngen) (5.3.0)\n",
      "Requirement already satisfied: pygments>=2.4.0 in c:\\users\\pavel_bobyrev\\appdata\\local\\programs\\python\\python39\\lib\\site-packages (from ipython==8.4.*->syngen) (2.13.0)\n",
      "Requirement already satisfied: stack-data in c:\\users\\pavel_bobyrev\\appdata\\local\\programs\\python\\python39\\lib\\site-packages (from ipython==8.4.*->syngen) (0.4.0)\n",
      "Requirement already satisfied: kiwisolver>=1.0.1 in c:\\users\\pavel_bobyrev\\appdata\\local\\programs\\python\\python39\\lib\\site-packages (from matplotlib==3.5.*->syngen) (1.4.4)\n",
      "Requirement already satisfied: fonttools>=4.22.0 in c:\\users\\pavel_bobyrev\\appdata\\local\\programs\\python\\python39\\lib\\site-packages (from matplotlib==3.5.*->syngen) (4.35.0)\n",
      "Requirement already satisfied: packaging>=20.0 in c:\\users\\pavel_bobyrev\\appdata\\local\\programs\\python\\python39\\lib\\site-packages (from matplotlib==3.5.*->syngen) (21.3)\n",
      "Requirement already satisfied: cycler>=0.10 in c:\\users\\pavel_bobyrev\\appdata\\local\\programs\\python\\python39\\lib\\site-packages (from matplotlib==3.5.*->syngen) (0.11.0)\n",
      "Requirement already satisfied: pyparsing>=2.2.1 in c:\\users\\pavel_bobyrev\\appdata\\local\\programs\\python\\python39\\lib\\site-packages (from matplotlib==3.5.*->syngen) (3.0.9)\n",
      "Requirement already satisfied: python-dateutil>=2.7 in c:\\users\\pavel_bobyrev\\appdata\\local\\programs\\python\\python39\\lib\\site-packages (from matplotlib==3.5.*->syngen) (2.8.2)\n",
      "Requirement already satisfied: pillow>=6.2.0 in c:\\users\\pavel_bobyrev\\appdata\\local\\programs\\python\\python39\\lib\\site-packages (from matplotlib==3.5.*->syngen) (9.2.0)\n",
      "Requirement already satisfied: pytz>=2017.3 in c:\\users\\pavel_bobyrev\\appdata\\local\\programs\\python\\python39\\lib\\site-packages (from pandas==1.3.*->syngen) (2022.2.1)\n",
      "Requirement already satisfied: fastavro==1.5.1 in c:\\users\\pavel_bobyrev\\appdata\\local\\programs\\python\\python39\\lib\\site-packages (from pandavro==1.7.*->syngen) (1.5.1)\n",
      "Requirement already satisfied: ppft>=1.7.6.5 in c:\\users\\pavel_bobyrev\\appdata\\local\\programs\\python\\python39\\lib\\site-packages (from pathos==0.2.*->syngen) (1.7.6.5)\n",
      "Requirement already satisfied: dill>=0.3.5.1 in c:\\users\\pavel_bobyrev\\appdata\\local\\programs\\python\\python39\\lib\\site-packages (from pathos==0.2.*->syngen) (0.3.5.1)\n",
      "Requirement already satisfied: pox>=0.3.1 in c:\\users\\pavel_bobyrev\\appdata\\local\\programs\\python\\python39\\lib\\site-packages (from pathos==0.2.*->syngen) (0.3.1)\n",
      "Requirement already satisfied: multiprocess>=0.70.13 in c:\\users\\pavel_bobyrev\\appdata\\local\\programs\\python\\python39\\lib\\site-packages (from pathos==0.2.*->syngen) (0.70.13)\n",
      "Requirement already satisfied: threadpoolctl>=2.0.0 in c:\\users\\pavel_bobyrev\\appdata\\local\\programs\\python\\python39\\lib\\site-packages (from scikit-learn==1.1.*->syngen) (3.1.0)\n",
      "Requirement already satisfied: joblib>=1.0.0 in c:\\users\\pavel_bobyrev\\appdata\\local\\programs\\python\\python39\\lib\\site-packages (from scikit-learn==1.1.*->syngen) (1.1.0)\n",
      "Requirement already satisfied: keras-preprocessing>=1.1.1 in c:\\users\\pavel_bobyrev\\appdata\\local\\programs\\python\\python39\\lib\\site-packages (from tensorflow==2.8.*->syngen) (1.1.2)\n",
      "Requirement already satisfied: gast>=0.2.1 in c:\\users\\pavel_bobyrev\\appdata\\local\\programs\\python\\python39\\lib\\site-packages (from tensorflow==2.8.*->syngen) (0.5.3)\n",
      "Requirement already satisfied: absl-py>=0.4.0 in c:\\users\\pavel_bobyrev\\appdata\\local\\programs\\python\\python39\\lib\\site-packages (from tensorflow==2.8.*->syngen) (1.2.0)\n",
      "Requirement already satisfied: tensorboard<2.9,>=2.8 in c:\\users\\pavel_bobyrev\\appdata\\local\\programs\\python\\python39\\lib\\site-packages (from tensorflow==2.8.*->syngen) (2.8.0)\n",
      "Requirement already satisfied: typing-extensions>=3.6.6 in c:\\users\\pavel_bobyrev\\appdata\\local\\programs\\python\\python39\\lib\\site-packages (from tensorflow==2.8.*->syngen) (4.3.0)\n",
      "Requirement already satisfied: opt-einsum>=2.3.2 in c:\\users\\pavel_bobyrev\\appdata\\local\\programs\\python\\python39\\lib\\site-packages (from tensorflow==2.8.*->syngen) (3.3.0)\n",
      "Requirement already satisfied: six>=1.12.0 in c:\\users\\pavel_bobyrev\\appdata\\local\\programs\\python\\python39\\lib\\site-packages (from tensorflow==2.8.*->syngen) (1.16.0)\n",
      "Requirement already satisfied: libclang>=9.0.1 in c:\\users\\pavel_bobyrev\\appdata\\local\\programs\\python\\python39\\lib\\site-packages (from tensorflow==2.8.*->syngen) (14.0.6)\n",
      "Requirement already satisfied: tf-estimator-nightly==2.8.0.dev2021122109 in c:\\users\\pavel_bobyrev\\appdata\\local\\programs\\python\\python39\\lib\\site-packages (from tensorflow==2.8.*->syngen) (2.8.0.dev2021122109)\n",
      "Requirement already satisfied: h5py>=2.9.0 in c:\\users\\pavel_bobyrev\\appdata\\local\\programs\\python\\python39\\lib\\site-packages (from tensorflow==2.8.*->syngen) (3.7.0)\n",
      "Requirement already satisfied: google-pasta>=0.1.1 in c:\\users\\pavel_bobyrev\\appdata\\local\\programs\\python\\python39\\lib\\site-packages (from tensorflow==2.8.*->syngen) (0.2.0)\n",
      "Requirement already satisfied: astunparse>=1.6.0 in c:\\users\\pavel_bobyrev\\appdata\\local\\programs\\python\\python39\\lib\\site-packages (from tensorflow==2.8.*->syngen) (1.6.3)\n",
      "Requirement already satisfied: termcolor>=1.1.0 in c:\\users\\pavel_bobyrev\\appdata\\local\\programs\\python\\python39\\lib\\site-packages (from tensorflow==2.8.*->syngen) (1.1.0)\n",
      "Requirement already satisfied: wrapt>=1.11.0 in c:\\users\\pavel_bobyrev\\appdata\\local\\programs\\python\\python39\\lib\\site-packages (from tensorflow==2.8.*->syngen) (1.14.1)\n",
      "Requirement already satisfied: grpcio<2.0,>=1.24.3 in c:\\users\\pavel_bobyrev\\appdata\\local\\programs\\python\\python39\\lib\\site-packages (from tensorflow==2.8.*->syngen) (1.47.0)\n",
      "Requirement already satisfied: flatbuffers>=1.12 in c:\\users\\pavel_bobyrev\\appdata\\local\\programs\\python\\python39\\lib\\site-packages (from tensorflow==2.8.*->syngen) (2.0)\n",
      "Requirement already satisfied: tensorflow-io-gcs-filesystem>=0.23.1 in c:\\users\\pavel_bobyrev\\appdata\\local\\programs\\python\\python39\\lib\\site-packages (from tensorflow==2.8.*->syngen) (0.26.0)\n",
      "Requirement already satisfied: MarkupSafe>=2.0 in c:\\users\\pavel_bobyrev\\appdata\\local\\programs\\python\\python39\\lib\\site-packages (from Jinja2->syngen) (2.1.1)\n",
      "Requirement already satisfied: win32-setctime>=1.0.0 in c:\\users\\pavel_bobyrev\\appdata\\local\\programs\\python\\python39\\lib\\site-packages (from loguru->syngen) (1.1.0)\n",
      "Requirement already satisfied: contextlib2>=0.5.5 in c:\\users\\pavel_bobyrev\\appdata\\local\\programs\\python\\python39\\lib\\site-packages (from schema->syngen) (21.6.0)\n",
      "Requirement already satisfied: wheel<1.0,>=0.23.0 in c:\\users\\pavel_bobyrev\\appdata\\local\\programs\\python\\python39\\lib\\site-packages (from astunparse>=1.6.0->tensorflow==2.8.*->syngen) (0.37.1)\n",
      "Requirement already satisfied: parso<0.9.0,>=0.8.0 in c:\\users\\pavel_bobyrev\\appdata\\local\\programs\\python\\python39\\lib\\site-packages (from jedi>=0.16->ipython==8.4.*->syngen) (0.8.3)\n",
      "Requirement already satisfied: wcwidth in c:\\users\\pavel_bobyrev\\appdata\\local\\programs\\python\\python39\\lib\\site-packages (from prompt-toolkit!=3.0.0,!=3.0.1,<3.1.0,>=2.0.0->ipython==8.4.*->syngen) (0.2.5)\n",
      "Requirement already satisfied: markdown>=2.6.8 in c:\\users\\pavel_bobyrev\\appdata\\local\\programs\\python\\python39\\lib\\site-packages (from tensorboard<2.9,>=2.8->tensorflow==2.8.*->syngen) (3.4.1)\n",
      "Requirement already satisfied: google-auth<3,>=1.6.3 in c:\\users\\pavel_bobyrev\\appdata\\local\\programs\\python\\python39\\lib\\site-packages (from tensorboard<2.9,>=2.8->tensorflow==2.8.*->syngen) (2.10.0)\n",
      "Requirement already satisfied: tensorboard-data-server<0.7.0,>=0.6.0 in c:\\users\\pavel_bobyrev\\appdata\\local\\programs\\python\\python39\\lib\\site-packages (from tensorboard<2.9,>=2.8->tensorflow==2.8.*->syngen) (0.6.1)\n",
      "Requirement already satisfied: google-auth-oauthlib<0.5,>=0.4.1 in c:\\users\\pavel_bobyrev\\appdata\\local\\programs\\python\\python39\\lib\\site-packages (from tensorboard<2.9,>=2.8->tensorflow==2.8.*->syngen) (0.4.6)\n",
      "Requirement already satisfied: werkzeug>=0.11.15 in c:\\users\\pavel_bobyrev\\appdata\\local\\programs\\python\\python39\\lib\\site-packages (from tensorboard<2.9,>=2.8->tensorflow==2.8.*->syngen) (2.2.2)\n",
      "Requirement already satisfied: tensorboard-plugin-wit>=1.6.0 in c:\\users\\pavel_bobyrev\\appdata\\local\\programs\\python\\python39\\lib\\site-packages (from tensorboard<2.9,>=2.8->tensorflow==2.8.*->syngen) (1.8.1)\n",
      "Requirement already satisfied: requests<3,>=2.21.0 in c:\\users\\pavel_bobyrev\\appdata\\local\\programs\\python\\python39\\lib\\site-packages (from tensorboard<2.9,>=2.8->tensorflow==2.8.*->syngen) (2.28.1)\n",
      "Requirement already satisfied: executing in c:\\users\\pavel_bobyrev\\appdata\\local\\programs\\python\\python39\\lib\\site-packages (from stack-data->ipython==8.4.*->syngen) (0.10.0)\n",
      "Requirement already satisfied: asttokens in c:\\users\\pavel_bobyrev\\appdata\\local\\programs\\python\\python39\\lib\\site-packages (from stack-data->ipython==8.4.*->syngen) (2.0.8)\n",
      "Requirement already satisfied: pure-eval in c:\\users\\pavel_bobyrev\\appdata\\local\\programs\\python\\python39\\lib\\site-packages (from stack-data->ipython==8.4.*->syngen) (0.2.2)\n",
      "Requirement already satisfied: cachetools<6.0,>=2.0.0 in c:\\users\\pavel_bobyrev\\appdata\\local\\programs\\python\\python39\\lib\\site-packages (from google-auth<3,>=1.6.3->tensorboard<2.9,>=2.8->tensorflow==2.8.*->syngen) (5.2.0)\n",
      "Requirement already satisfied: rsa<5,>=3.1.4 in c:\\users\\pavel_bobyrev\\appdata\\local\\programs\\python\\python39\\lib\\site-packages (from google-auth<3,>=1.6.3->tensorboard<2.9,>=2.8->tensorflow==2.8.*->syngen) (4.9)\n",
      "Requirement already satisfied: pyasn1-modules>=0.2.1 in c:\\users\\pavel_bobyrev\\appdata\\local\\programs\\python\\python39\\lib\\site-packages (from google-auth<3,>=1.6.3->tensorboard<2.9,>=2.8->tensorflow==2.8.*->syngen) (0.2.8)\n",
      "Requirement already satisfied: requests-oauthlib>=0.7.0 in c:\\users\\pavel_bobyrev\\appdata\\local\\programs\\python\\python39\\lib\\site-packages (from google-auth-oauthlib<0.5,>=0.4.1->tensorboard<2.9,>=2.8->tensorflow==2.8.*->syngen) (1.3.1)\n",
      "Requirement already satisfied: importlib-metadata>=4.4 in c:\\users\\pavel_bobyrev\\appdata\\local\\programs\\python\\python39\\lib\\site-packages (from markdown>=2.6.8->tensorboard<2.9,>=2.8->tensorflow==2.8.*->syngen) (4.12.0)\n",
      "Requirement already satisfied: urllib3<1.27,>=1.21.1 in c:\\users\\pavel_bobyrev\\appdata\\local\\programs\\python\\python39\\lib\\site-packages (from requests<3,>=2.21.0->tensorboard<2.9,>=2.8->tensorflow==2.8.*->syngen) (1.26.11)\n",
      "Requirement already satisfied: charset-normalizer<3,>=2 in c:\\users\\pavel_bobyrev\\appdata\\local\\programs\\python\\python39\\lib\\site-packages (from requests<3,>=2.21.0->tensorboard<2.9,>=2.8->tensorflow==2.8.*->syngen) (2.1.0)\n",
      "Requirement already satisfied: idna<4,>=2.5 in c:\\users\\pavel_bobyrev\\appdata\\local\\programs\\python\\python39\\lib\\site-packages (from requests<3,>=2.21.0->tensorboard<2.9,>=2.8->tensorflow==2.8.*->syngen) (3.3)\n",
      "Requirement already satisfied: certifi>=2017.4.17 in c:\\users\\pavel_bobyrev\\appdata\\local\\programs\\python\\python39\\lib\\site-packages (from requests<3,>=2.21.0->tensorboard<2.9,>=2.8->tensorflow==2.8.*->syngen) (2022.6.15)\n",
      "Requirement already satisfied: zipp>=0.5 in c:\\users\\pavel_bobyrev\\appdata\\local\\programs\\python\\python39\\lib\\site-packages (from importlib-metadata>=4.4->markdown>=2.6.8->tensorboard<2.9,>=2.8->tensorflow==2.8.*->syngen) (3.8.1)\n",
      "Requirement already satisfied: pyasn1<0.5.0,>=0.4.6 in c:\\users\\pavel_bobyrev\\appdata\\local\\programs\\python\\python39\\lib\\site-packages (from pyasn1-modules>=0.2.1->google-auth<3,>=1.6.3->tensorboard<2.9,>=2.8->tensorflow==2.8.*->syngen) (0.4.8)\n",
      "Requirement already satisfied: oauthlib>=3.0.0 in c:\\users\\pavel_bobyrev\\appdata\\local\\programs\\python\\python39\\lib\\site-packages (from requests-oauthlib>=0.7.0->google-auth-oauthlib<0.5,>=0.4.1->tensorboard<2.9,>=2.8->tensorflow==2.8.*->syngen) (3.2.0)\n",
      "Installing collected packages: syngen\n",
      "Successfully installed syngen-0.0.48\n",
      "\n",
      "C:\\Users\\Pavel_Bobyrev>"
     ]
    }
   ],
   "source": [
    "%%cmd\n",
    "\n",
    "python.exe -m pip install --upgrade pip\n",
    "pip3 install syngen"
   ]
  },
  {
   "cell_type": "markdown",
   "id": "92d2af62-56c9-4c52-84bf-bd88ac995f7a",
   "metadata": {},
   "source": [
    "Then we will invoke the training process. To demonstrate the early stopping feature we subset a small amount of rows from the table (2048) using row_limit argument."
   ]
  },
  {
   "cell_type": "code",
   "execution_count": 19,
   "id": "52358541-3793-4c8f-aa37-506080a990c3",
   "metadata": {
    "tags": []
   },
   "outputs": [
    {
     "name": "stdout",
     "output_type": "stream",
     "text": [
      "Microsoft Windows [Version 10.0.19044.2251]\n",
      "(c) Microsoft Corporation. All rights reserved.\n",
      "\n",
      "C:\\Users\\Pavel_Bobyrev>\n",
      "C:\\Users\\Pavel_Bobyrev>train --metadata_path \"housing.yml\"\n"
     ]
    },
    {
     "name": "stderr",
     "output_type": "stream",
     "text": [
      "\u001b[32m2022-12-01 08:28:53.440\u001b[0m | \u001b[1mINFO    \u001b[0m | \u001b[36msyngen.ml.validation_schema.validation_schema\u001b[0m:\u001b[36mvalidate_schema\u001b[0m:\u001b[36m45\u001b[0m - \u001b[1mThe schema of metadata file is valid\u001b[0m\n",
      "\u001b[32m2022-12-01 08:28:53.440\u001b[0m | \u001b[1mINFO    \u001b[0m | \u001b[36msyngen.ml.worker.worker\u001b[0m:\u001b[36m__train_chain_of_tables\u001b[0m:\u001b[36m146\u001b[0m - \u001b[1mTraining process of the table - pk_test has started.\u001b[0m\n",
      "\u001b[32m2022-12-01 08:28:53.458\u001b[0m | \u001b[1mINFO    \u001b[0m | \u001b[36msyngen.ml.interface.interface\u001b[0m:\u001b[36mrun\u001b[0m:\u001b[36m147\u001b[0m - \u001b[1mGenerator: 'vae', mode: 'train'\u001b[0m\n",
      "\u001b[32m2022-12-01 08:28:53.458\u001b[0m | \u001b[34m\u001b[1mDEBUG   \u001b[0m | \u001b[36msyngen.ml.strategies.strategies\u001b[0m:\u001b[36mrun\u001b[0m:\u001b[36m27\u001b[0m - \u001b[34m\u001b[1mTrain model with parameters: epochs=10, drop_null=False\u001b[0m\n",
      "\u001b[32m2022-12-01 08:28:53.534\u001b[0m | \u001b[34m\u001b[1mDEBUG   \u001b[0m | \u001b[36msyngen.ml.pipeline.pipeline\u001b[0m:\u001b[36mdata_pipeline\u001b[0m:\u001b[36m128\u001b[0m - \u001b[34m\u001b[1mCount of string columns: 0; Count of float columns: 2; Count of int columns: 1; Count of categorical columns: 0; Count of date columns: 0; Count of binary columns: 0\u001b[0m\n",
      "\u001b[32m2022-12-01 08:28:55.659\u001b[0m | \u001b[1mINFO    \u001b[0m | \u001b[36msyngen.ml.reporters.reporters\u001b[0m:\u001b[36mreport\u001b[0m:\u001b[36m158\u001b[0m - \u001b[1mCorresponding plot pickle files regarding to sampled data accuracy test were saved to folder 'model_artifacts/tmp_store/pk_test/draws/'.\u001b[0m\n",
      "\u001b[32m2022-12-01 08:28:55.659\u001b[0m | \u001b[1mINFO    \u001b[0m | \u001b[36msyngen.ml.train_chain.train_chain\u001b[0m:\u001b[36m__fit_model\u001b[0m:\u001b[36m120\u001b[0m - \u001b[1mStart VAE training\u001b[0m\n",
      "\u001b[32m2022-12-01 08:28:55.659\u001b[0m | \u001b[1mINFO    \u001b[0m | \u001b[36msyngen.ml.vae.models.dataset\u001b[0m:\u001b[36m__set_pk_key\u001b[0m:\u001b[36m50\u001b[0m - \u001b[1mThe primary key name was set: house_id\u001b[0m\n",
      "\u001b[32m2022-12-01 08:28:55.659\u001b[0m | \u001b[1mINFO    \u001b[0m | \u001b[36msyngen.ml.vae.models.dataset\u001b[0m:\u001b[36m__set_uq_keys\u001b[0m:\u001b[36m68\u001b[0m - \u001b[1mNo unique keys were set.\u001b[0m\n",
      "\u001b[32m2022-12-01 08:28:55.659\u001b[0m | \u001b[1mINFO    \u001b[0m | \u001b[36msyngen.ml.vae.models.dataset\u001b[0m:\u001b[36m__set_fk_keys\u001b[0m:\u001b[36m85\u001b[0m - \u001b[1mNo foreign keys were set.\u001b[0m\n",
      "\u001b[32m2022-12-01 08:28:55.667\u001b[0m | \u001b[34m\u001b[1mDEBUG   \u001b[0m | \u001b[36msyngen.ml.pipeline.pipeline\u001b[0m:\u001b[36mdata_pipeline\u001b[0m:\u001b[36m128\u001b[0m - \u001b[34m\u001b[1mCount of string columns: 0; Count of float columns: 2; Count of int columns: 1; Count of categorical columns: 0; Count of date columns: 0; Count of binary columns: 0\u001b[0m\n",
      "\u001b[32m2022-12-01 08:28:55.667\u001b[0m | \u001b[34m\u001b[1mDEBUG   \u001b[0m | \u001b[36msyngen.ml.vae.models.dataset\u001b[0m:\u001b[36m_assign_float_feature\u001b[0m:\u001b[36m307\u001b[0m - \u001b[34m\u001b[1mFeature longitude assigned as float based feature\u001b[0m\n",
      "\u001b[32m2022-12-01 08:28:55.667\u001b[0m | \u001b[34m\u001b[1mDEBUG   \u001b[0m | \u001b[36msyngen.ml.vae.models.dataset\u001b[0m:\u001b[36m_assign_float_feature\u001b[0m:\u001b[36m307\u001b[0m - \u001b[34m\u001b[1mFeature latitude assigned as float based feature\u001b[0m\n",
      "\u001b[32m2022-12-01 08:28:55.667\u001b[0m | \u001b[34m\u001b[1mDEBUG   \u001b[0m | \u001b[36msyngen.ml.vae.models.dataset\u001b[0m:\u001b[36m_assign_int_feature\u001b[0m:\u001b[36m321\u001b[0m - \u001b[34m\u001b[1mFeature house_id assigned as int based feature\u001b[0m\n",
      "645it [00:15, 41.37it/s]\n",
      "\u001b[32m2022-12-01 08:29:11.534\u001b[0m | \u001b[1mINFO    \u001b[0m | \u001b[36msyngen.ml.vae.wrappers.wrappers\u001b[0m:\u001b[36m_train\u001b[0m:\u001b[36m216\u001b[0m - \u001b[1mepoch: 0, loss: 0.22687940299510956, time: 15.632596492767334, sec\u001b[0m\n",
      "645it [00:16, 40.04it/s]\n",
      "\u001b[32m2022-12-01 08:29:27.709\u001b[0m | \u001b[1mINFO    \u001b[0m | \u001b[36msyngen.ml.vae.wrappers.wrappers\u001b[0m:\u001b[36m_train\u001b[0m:\u001b[36m216\u001b[0m - \u001b[1mepoch: 1, loss: 0.040918610990047455, time: 16.16650414466858, sec\u001b[0m\n",
      "645it [00:18, 35.27it/s]\n",
      "\u001b[32m2022-12-01 08:29:46.053\u001b[0m | \u001b[1mINFO    \u001b[0m | \u001b[36msyngen.ml.vae.wrappers.wrappers\u001b[0m:\u001b[36m_train\u001b[0m:\u001b[36m216\u001b[0m - \u001b[1mepoch: 2, loss: 0.010705102235078812, time: 18.34465265274048, sec\u001b[0m\n",
      "645it [00:17, 36.80it/s]\n",
      "\u001b[32m2022-12-01 08:30:03.635\u001b[0m | \u001b[1mINFO    \u001b[0m | \u001b[36msyngen.ml.vae.wrappers.wrappers\u001b[0m:\u001b[36m_train\u001b[0m:\u001b[36m216\u001b[0m - \u001b[1mepoch: 3, loss: 0.004118278622627258, time: 17.58194375038147, sec\u001b[0m\n",
      "645it [00:15, 40.40it/s]\n",
      "\u001b[32m2022-12-01 08:30:19.599\u001b[0m | \u001b[1mINFO    \u001b[0m | \u001b[36msyngen.ml.vae.wrappers.wrappers\u001b[0m:\u001b[36m_train\u001b[0m:\u001b[36m216\u001b[0m - \u001b[1mepoch: 4, loss: 0.0021546839270740747, time: 15.963833093643188, sec\u001b[0m\n",
      "645it [00:16, 40.28it/s]\n",
      "\u001b[32m2022-12-01 08:30:35.630\u001b[0m | \u001b[1mINFO    \u001b[0m | \u001b[36msyngen.ml.vae.wrappers.wrappers\u001b[0m:\u001b[36m_train\u001b[0m:\u001b[36m216\u001b[0m - \u001b[1mepoch: 5, loss: 0.0014830819563940167, time: 16.030772924423218, sec\u001b[0m\n",
      "645it [00:16, 39.57it/s]\n",
      "\u001b[32m2022-12-01 08:30:51.931\u001b[0m | \u001b[1mINFO    \u001b[0m | \u001b[36msyngen.ml.vae.wrappers.wrappers\u001b[0m:\u001b[36m_train\u001b[0m:\u001b[36m216\u001b[0m - \u001b[1mepoch: 6, loss: 0.0010402151383459568, time: 16.30069875717163, sec\u001b[0m\n",
      "645it [00:15, 41.32it/s]\n",
      "\u001b[32m2022-12-01 08:31:07.556\u001b[0m | \u001b[1mINFO    \u001b[0m | \u001b[36msyngen.ml.vae.wrappers.wrappers\u001b[0m:\u001b[36m_train\u001b[0m:\u001b[36m216\u001b[0m - \u001b[1mepoch: 7, loss: 0.0007734122918918729, time: 15.625312089920044, sec\u001b[0m\n",
      "645it [00:15, 41.78it/s]\n",
      "\u001b[32m2022-12-01 08:31:22.994\u001b[0m | \u001b[1mINFO    \u001b[0m | \u001b[36msyngen.ml.vae.wrappers.wrappers\u001b[0m:\u001b[36m_train\u001b[0m:\u001b[36m216\u001b[0m - \u001b[1mepoch: 8, loss: 0.0005714571452699602, time: 15.438078880310059, sec\u001b[0m\n",
      "645it [00:15, 41.54it/s]\n",
      "\u001b[32m2022-12-01 08:31:38.530\u001b[0m | \u001b[1mINFO    \u001b[0m | \u001b[36msyngen.ml.vae.wrappers.wrappers\u001b[0m:\u001b[36m_train\u001b[0m:\u001b[36m216\u001b[0m - \u001b[1mepoch: 9, loss: 0.00040717062074691057, time: 15.535685062408447, sec\u001b[0m\n",
      "\u001b[32m2022-12-01 08:31:38.537\u001b[0m | \u001b[1mINFO    \u001b[0m | \u001b[36msyngen.ml.vae.models.model\u001b[0m:\u001b[36mfit_sampler\u001b[0m:\u001b[36m200\u001b[0m - \u001b[1mFit sampler\u001b[0m\n",
      "\u001b[32m2022-12-01 08:31:38.537\u001b[0m | \u001b[1mINFO    \u001b[0m | \u001b[36msyngen.ml.vae.models.model\u001b[0m:\u001b[36mfit_sampler\u001b[0m:\u001b[36m202\u001b[0m - \u001b[1mStart encoding\u001b[0m\n",
      "\u001b[32m2022-12-01 08:31:39.479\u001b[0m | \u001b[1mINFO    \u001b[0m | \u001b[36msyngen.ml.vae.models.model\u001b[0m:\u001b[36mfit_sampler\u001b[0m:\u001b[36m205\u001b[0m - \u001b[1mCreating BayesianGaussianMixture\u001b[0m\n",
      "\u001b[32m2022-12-01 08:31:39.479\u001b[0m | \u001b[1mINFO    \u001b[0m | \u001b[36msyngen.ml.vae.models.model\u001b[0m:\u001b[36mfit_sampler\u001b[0m:\u001b[36m209\u001b[0m - \u001b[1mFitting BayesianGaussianMixture\u001b[0m\n",
      "\u001b[32m2022-12-01 08:37:26.695\u001b[0m | \u001b[1mINFO    \u001b[0m | \u001b[36msyngen.ml.vae.models.model\u001b[0m:\u001b[36mfit_sampler\u001b[0m:\u001b[36m211\u001b[0m - \u001b[1mFinished fitting BayesianGaussianMixture\u001b[0m\n",
      "\u001b[32m2022-12-01 08:37:26.792\u001b[0m | \u001b[1mINFO    \u001b[0m | \u001b[36msyngen.ml.vae.wrappers.wrappers\u001b[0m:\u001b[36msave_state\u001b[0m:\u001b[36m289\u001b[0m - \u001b[1mSaved VAE state in model_artifacts/resources/pk_test/vae/checkpoints\u001b[0m\n",
      "\u001b[32m2022-12-01 08:37:26.792\u001b[0m | \u001b[1mINFO    \u001b[0m | \u001b[36msyngen.ml.train_chain.train_chain\u001b[0m:\u001b[36m__fit_model\u001b[0m:\u001b[36m140\u001b[0m - \u001b[1mFinished VAE training\u001b[0m\n",
      "\u001b[32m2022-12-01 08:37:26.792\u001b[0m | \u001b[1mINFO    \u001b[0m | \u001b[36msyngen.ml.strategies.strategies\u001b[0m:\u001b[36mrun\u001b[0m:\u001b[36m43\u001b[0m - \u001b[1mTraining of the table - pk_test was completed\u001b[0m\n",
      "\u001b[32m2022-12-01 08:37:26.792\u001b[0m | \u001b[1mINFO    \u001b[0m | \u001b[36msyngen.ml.worker.worker\u001b[0m:\u001b[36m__train_chain_of_tables\u001b[0m:\u001b[36m146\u001b[0m - \u001b[1mTraining process of the table - fk_test has started.\u001b[0m\n",
      "\u001b[32m2022-12-01 08:37:26.831\u001b[0m | \u001b[1mINFO    \u001b[0m | \u001b[36msyngen.ml.interface.interface\u001b[0m:\u001b[36mrun\u001b[0m:\u001b[36m147\u001b[0m - \u001b[1mGenerator: 'vae', mode: 'train'\u001b[0m\n",
      "\u001b[32m2022-12-01 08:37:26.831\u001b[0m | \u001b[34m\u001b[1mDEBUG   \u001b[0m | \u001b[36msyngen.ml.strategies.strategies\u001b[0m:\u001b[36mrun\u001b[0m:\u001b[36m27\u001b[0m - \u001b[34m\u001b[1mTrain model with parameters: epochs=10, drop_null=False\u001b[0m\n",
      "\u001b[32m2022-12-01 08:37:27.082\u001b[0m | \u001b[34m\u001b[1mDEBUG   \u001b[0m | \u001b[36msyngen.ml.pipeline.pipeline\u001b[0m:\u001b[36mdata_pipeline\u001b[0m:\u001b[36m128\u001b[0m - \u001b[34m\u001b[1mCount of string columns: 0; Count of float columns: 2; Count of int columns: 1; Count of categorical columns: 0; Count of date columns: 0; Count of binary columns: 0\u001b[0m\n",
      "\u001b[32m2022-12-01 08:37:29.589\u001b[0m | \u001b[1mINFO    \u001b[0m | \u001b[36msyngen.ml.reporters.reporters\u001b[0m:\u001b[36mreport\u001b[0m:\u001b[36m158\u001b[0m - \u001b[1mCorresponding plot pickle files regarding to sampled data accuracy test were saved to folder 'model_artifacts/tmp_store/pk_test/draws/'.\u001b[0m\n",
      "\u001b[32m2022-12-01 08:37:29.705\u001b[0m | \u001b[34m\u001b[1mDEBUG   \u001b[0m | \u001b[36msyngen.ml.pipeline.pipeline\u001b[0m:\u001b[36mdata_pipeline\u001b[0m:\u001b[36m128\u001b[0m - \u001b[34m\u001b[1mCount of string columns: 0; Count of float columns: 1; Count of int columns: 7; Count of categorical columns: 1; Count of date columns: 0; Count of binary columns: 0\u001b[0m\n",
      "\u001b[32m2022-12-01 08:37:41.041\u001b[0m | \u001b[1mINFO    \u001b[0m | \u001b[36msyngen.ml.reporters.reporters\u001b[0m:\u001b[36mreport\u001b[0m:\u001b[36m158\u001b[0m - \u001b[1mCorresponding plot pickle files regarding to sampled data accuracy test were saved to folder 'model_artifacts/tmp_store/fk_test/draws/'.\u001b[0m\n",
      "\u001b[32m2022-12-01 08:37:41.041\u001b[0m | \u001b[1mINFO    \u001b[0m | \u001b[36msyngen.ml.train_chain.train_chain\u001b[0m:\u001b[36m__fit_model\u001b[0m:\u001b[36m120\u001b[0m - \u001b[1mStart VAE training\u001b[0m\n",
      "\u001b[32m2022-12-01 08:37:41.041\u001b[0m | \u001b[1mINFO    \u001b[0m | \u001b[36msyngen.ml.vae.models.dataset\u001b[0m:\u001b[36m__set_pk_key\u001b[0m:\u001b[36m52\u001b[0m - \u001b[1mNo primary key was set.\u001b[0m\n",
      "\u001b[32m2022-12-01 08:37:41.041\u001b[0m | \u001b[1mINFO    \u001b[0m | \u001b[36msyngen.ml.vae.models.dataset\u001b[0m:\u001b[36m__set_uq_keys\u001b[0m:\u001b[36m68\u001b[0m - \u001b[1mNo unique keys were set.\u001b[0m\n",
      "\u001b[32m2022-12-01 08:37:41.049\u001b[0m | \u001b[1mINFO    \u001b[0m | \u001b[36msyngen.ml.vae.models.dataset\u001b[0m:\u001b[36m__set_fk_keys\u001b[0m:\u001b[36m83\u001b[0m - \u001b[1mThe following foreign keys were set: ['house_id']\u001b[0m\n",
      "\u001b[32m2022-12-01 08:37:41.140\u001b[0m | \u001b[34m\u001b[1mDEBUG   \u001b[0m | \u001b[36msyngen.ml.pipeline.pipeline\u001b[0m:\u001b[36mdata_pipeline\u001b[0m:\u001b[36m128\u001b[0m - \u001b[34m\u001b[1mCount of string columns: 0; Count of float columns: 1; Count of int columns: 7; Count of categorical columns: 1; Count of date columns: 0; Count of binary columns: 0\u001b[0m\n",
      "\u001b[32m2022-12-01 08:37:41.151\u001b[0m | \u001b[1mINFO    \u001b[0m | \u001b[36msyngen.ml.vae.models.dataset\u001b[0m:\u001b[36m_preprocess_fk_params\u001b[0m:\u001b[36m249\u001b[0m - \u001b[1mKDE artifacts saved to model_artifacts/resources/fk_test/vae/checkpoints/fk_kde.pkl\u001b[0m\n",
      "\u001b[32m2022-12-01 08:37:41.151\u001b[0m | \u001b[34m\u001b[1mDEBUG   \u001b[0m | \u001b[36msyngen.ml.vae.models.dataset\u001b[0m:\u001b[36m__drop_fk_columns\u001b[0m:\u001b[36m264\u001b[0m - \u001b[34m\u001b[1mThe column - house_id of foreign key house_id dropped from training and will be sampled from the PK table\u001b[0m\n",
      "\u001b[32m2022-12-01 08:37:41.151\u001b[0m | \u001b[34m\u001b[1mDEBUG   \u001b[0m | \u001b[36msyngen.ml.vae.models.dataset\u001b[0m:\u001b[36m_assign_int_feature\u001b[0m:\u001b[36m321\u001b[0m - \u001b[34m\u001b[1mFeature housing_median_age assigned as int based feature\u001b[0m\n",
      "\u001b[32m2022-12-01 08:37:41.151\u001b[0m | \u001b[34m\u001b[1mDEBUG   \u001b[0m | \u001b[36msyngen.ml.vae.models.dataset\u001b[0m:\u001b[36m_assign_int_feature\u001b[0m:\u001b[36m321\u001b[0m - \u001b[34m\u001b[1mFeature total_rooms assigned as int based feature\u001b[0m\n",
      "\u001b[32m2022-12-01 08:37:41.159\u001b[0m | \u001b[1mINFO    \u001b[0m | \u001b[36msyngen.ml.vae.models.dataset\u001b[0m:\u001b[36m_preprocess_nan_cols\u001b[0m:\u001b[36m220\u001b[0m - \u001b[1mColumn total_bedrooms contains 202 (1%) empty values out of 20640. Filling them with mean.\u001b[0m\n",
      "\u001b[32m2022-12-01 08:37:41.159\u001b[0m | \u001b[34m\u001b[1mDEBUG   \u001b[0m | \u001b[36msyngen.ml.vae.models.dataset\u001b[0m:\u001b[36m_assign_int_feature\u001b[0m:\u001b[36m321\u001b[0m - \u001b[34m\u001b[1mFeature total_bedrooms assigned as int based feature\u001b[0m\n",
      "\u001b[32m2022-12-01 08:37:41.159\u001b[0m | \u001b[34m\u001b[1mDEBUG   \u001b[0m | \u001b[36msyngen.ml.vae.models.dataset\u001b[0m:\u001b[36m_assign_int_feature\u001b[0m:\u001b[36m321\u001b[0m - \u001b[34m\u001b[1mFeature total_bedrooms_null assigned as int based feature\u001b[0m\n",
      "\u001b[32m2022-12-01 08:37:41.159\u001b[0m | \u001b[34m\u001b[1mDEBUG   \u001b[0m | \u001b[36msyngen.ml.vae.models.dataset\u001b[0m:\u001b[36m_assign_int_feature\u001b[0m:\u001b[36m321\u001b[0m - \u001b[34m\u001b[1mFeature population assigned as int based feature\u001b[0m\n",
      "\u001b[32m2022-12-01 08:37:41.159\u001b[0m | \u001b[34m\u001b[1mDEBUG   \u001b[0m | \u001b[36msyngen.ml.vae.models.dataset\u001b[0m:\u001b[36m_assign_int_feature\u001b[0m:\u001b[36m321\u001b[0m - \u001b[34m\u001b[1mFeature households assigned as int based feature\u001b[0m\n",
      "\u001b[32m2022-12-01 08:37:41.159\u001b[0m | \u001b[34m\u001b[1mDEBUG   \u001b[0m | \u001b[36msyngen.ml.vae.models.dataset\u001b[0m:\u001b[36m_assign_float_feature\u001b[0m:\u001b[36m307\u001b[0m - \u001b[34m\u001b[1mFeature median_income assigned as float based feature\u001b[0m\n",
      "\u001b[32m2022-12-01 08:37:41.165\u001b[0m | \u001b[34m\u001b[1mDEBUG   \u001b[0m | \u001b[36msyngen.ml.vae.models.dataset\u001b[0m:\u001b[36m_assign_int_feature\u001b[0m:\u001b[36m321\u001b[0m - \u001b[34m\u001b[1mFeature median_house_value assigned as int based feature\u001b[0m\n",
      "\u001b[32m2022-12-01 08:37:41.166\u001b[0m | \u001b[34m\u001b[1mDEBUG   \u001b[0m | \u001b[36msyngen.ml.vae.models.dataset\u001b[0m:\u001b[36m_assign_categ_feature\u001b[0m:\u001b[36m329\u001b[0m - \u001b[34m\u001b[1mFeature ocean_proximity assigned as categorical based feature\u001b[0m\n",
      "645it [00:40, 15.88it/s]\n",
      "\u001b[32m2022-12-01 08:38:22.761\u001b[0m | \u001b[1mINFO    \u001b[0m | \u001b[36msyngen.ml.vae.wrappers.wrappers\u001b[0m:\u001b[36m_train\u001b[0m:\u001b[36m216\u001b[0m - \u001b[1mepoch: 0, loss: 1.1185970306396484, time: 40.708616733551025, sec\u001b[0m\n",
      "645it [00:41, 15.55it/s]\n",
      "\u001b[32m2022-12-01 08:39:04.332\u001b[0m | \u001b[1mINFO    \u001b[0m | \u001b[36msyngen.ml.vae.wrappers.wrappers\u001b[0m:\u001b[36m_train\u001b[0m:\u001b[36m216\u001b[0m - \u001b[1mepoch: 1, loss: 0.07792861014604568, time: 41.57105541229248, sec\u001b[0m\n",
      "645it [00:42, 15.32it/s]\n",
      "\u001b[32m2022-12-01 08:39:46.527\u001b[0m | \u001b[1mINFO    \u001b[0m | \u001b[36msyngen.ml.vae.wrappers.wrappers\u001b[0m:\u001b[36m_train\u001b[0m:\u001b[36m216\u001b[0m - \u001b[1mepoch: 2, loss: 0.029655033722519875, time: 42.194966554641724, sec\u001b[0m\n",
      "645it [00:51, 12.56it/s]\n",
      "\u001b[32m2022-12-01 08:40:37.967\u001b[0m | \u001b[1mINFO    \u001b[0m | \u001b[36msyngen.ml.vae.wrappers.wrappers\u001b[0m:\u001b[36m_train\u001b[0m:\u001b[36m216\u001b[0m - \u001b[1mepoch: 3, loss: 0.01707400754094124, time: 51.440258502960205, sec\u001b[0m\n",
      "645it [00:47, 13.44it/s]\n",
      "\u001b[32m2022-12-01 08:41:26.076\u001b[0m | \u001b[1mINFO    \u001b[0m | \u001b[36msyngen.ml.vae.wrappers.wrappers\u001b[0m:\u001b[36m_train\u001b[0m:\u001b[36m216\u001b[0m - \u001b[1mepoch: 4, loss: 0.010290699079632759, time: 48.10872411727905, sec\u001b[0m\n",
      "645it [00:41, 15.37it/s]\n",
      "\u001b[32m2022-12-01 08:42:08.057\u001b[0m | \u001b[1mINFO    \u001b[0m | \u001b[36msyngen.ml.vae.wrappers.wrappers\u001b[0m:\u001b[36m_train\u001b[0m:\u001b[36m216\u001b[0m - \u001b[1mepoch: 5, loss: 0.007004742510616779, time: 41.98183298110962, sec\u001b[0m\n",
      "645it [00:41, 15.49it/s]\n",
      "\u001b[32m2022-12-01 08:42:49.702\u001b[0m | \u001b[1mINFO    \u001b[0m | \u001b[36msyngen.ml.vae.wrappers.wrappers\u001b[0m:\u001b[36m_train\u001b[0m:\u001b[36m216\u001b[0m - \u001b[1mepoch: 6, loss: 0.004388539120554924, time: 41.64439654350281, sec\u001b[0m\n",
      "645it [00:40, 15.93it/s]\n",
      "\u001b[32m2022-12-01 08:43:30.204\u001b[0m | \u001b[1mINFO    \u001b[0m | \u001b[36msyngen.ml.vae.wrappers.wrappers\u001b[0m:\u001b[36m_train\u001b[0m:\u001b[36m216\u001b[0m - \u001b[1mepoch: 7, loss: 0.0027838617097586393, time: 40.502095460891724, sec\u001b[0m\n",
      "645it [00:41, 15.54it/s]\n",
      "\u001b[32m2022-12-01 08:44:11.733\u001b[0m | \u001b[1mINFO    \u001b[0m | \u001b[36msyngen.ml.vae.wrappers.wrappers\u001b[0m:\u001b[36m_train\u001b[0m:\u001b[36m216\u001b[0m - \u001b[1mepoch: 8, loss: 0.00210189213976264, time: 41.52902269363403, sec\u001b[0m\n",
      "645it [00:40, 15.75it/s]\n",
      "\u001b[32m2022-12-01 08:44:52.688\u001b[0m | \u001b[1mINFO    \u001b[0m | \u001b[36msyngen.ml.vae.wrappers.wrappers\u001b[0m:\u001b[36m_train\u001b[0m:\u001b[36m216\u001b[0m - \u001b[1mepoch: 9, loss: 0.0018030087230727077, time: 40.955552101135254, sec\u001b[0m\n",
      "\u001b[32m2022-12-01 08:44:52.693\u001b[0m | \u001b[1mINFO    \u001b[0m | \u001b[36msyngen.ml.vae.models.model\u001b[0m:\u001b[36mfit_sampler\u001b[0m:\u001b[36m200\u001b[0m - \u001b[1mFit sampler\u001b[0m\n",
      "\u001b[32m2022-12-01 08:44:52.737\u001b[0m | \u001b[1mINFO    \u001b[0m | \u001b[36msyngen.ml.vae.models.model\u001b[0m:\u001b[36mfit_sampler\u001b[0m:\u001b[36m202\u001b[0m - \u001b[1mStart encoding\u001b[0m\n",
      "\u001b[32m2022-12-01 08:44:53.942\u001b[0m | \u001b[1mINFO    \u001b[0m | \u001b[36msyngen.ml.vae.models.model\u001b[0m:\u001b[36mfit_sampler\u001b[0m:\u001b[36m205\u001b[0m - \u001b[1mCreating BayesianGaussianMixture\u001b[0m\n",
      "\u001b[32m2022-12-01 08:44:53.942\u001b[0m | \u001b[1mINFO    \u001b[0m | \u001b[36msyngen.ml.vae.models.model\u001b[0m:\u001b[36mfit_sampler\u001b[0m:\u001b[36m209\u001b[0m - \u001b[1mFitting BayesianGaussianMixture\u001b[0m\n",
      "\u001b[32m2022-12-01 08:56:49.475\u001b[0m | \u001b[1mINFO    \u001b[0m | \u001b[36msyngen.ml.vae.models.model\u001b[0m:\u001b[36mfit_sampler\u001b[0m:\u001b[36m211\u001b[0m - \u001b[1mFinished fitting BayesianGaussianMixture\u001b[0m\n",
      "\u001b[32m2022-12-01 08:56:49.567\u001b[0m | \u001b[1mINFO    \u001b[0m | \u001b[36msyngen.ml.vae.wrappers.wrappers\u001b[0m:\u001b[36msave_state\u001b[0m:\u001b[36m289\u001b[0m - \u001b[1mSaved VAE state in model_artifacts/resources/fk_test/vae/checkpoints\u001b[0m\n",
      "\u001b[32m2022-12-01 08:56:49.567\u001b[0m | \u001b[1mINFO    \u001b[0m | \u001b[36msyngen.ml.train_chain.train_chain\u001b[0m:\u001b[36m__fit_model\u001b[0m:\u001b[36m140\u001b[0m - \u001b[1mFinished VAE training\u001b[0m\n",
      "\u001b[32m2022-12-01 08:56:49.568\u001b[0m | \u001b[1mINFO    \u001b[0m | \u001b[36msyngen.ml.strategies.strategies\u001b[0m:\u001b[36mrun\u001b[0m:\u001b[36m43\u001b[0m - \u001b[1mTraining of the table - fk_test was completed\u001b[0m\n"
     ]
    },
    {
     "name": "stdout",
     "output_type": "stream",
     "text": [
      "\n",
      "C:\\Users\\Pavel_Bobyrev>"
     ]
    }
   ],
   "source": [
    "%%cmd\n",
    "\n",
    "train --metadata_path \"housing.yml\""
   ]
  },
  {
   "cell_type": "markdown",
   "id": "35deae49-4f23-480d-ba3a-8d0a7260e266",
   "metadata": {},
   "source": [
    "Pay attention, that all parameters from training and inference are specified in the metadata file. All you need is to pass the path to metadata asargument to both train and infer commands"
   ]
  },
  {
   "cell_type": "code",
   "execution_count": 21,
   "id": "49330ab6-9e1b-4f51-9471-a5953fcc4978",
   "metadata": {},
   "outputs": [
    {
     "name": "stdout",
     "output_type": "stream",
     "text": [
      "Microsoft Windows [Version 10.0.19044.2251]\n",
      "(c) Microsoft Corporation. All rights reserved.\n",
      "\n",
      "C:\\Users\\Pavel_Bobyrev>\n",
      "C:\\Users\\Pavel_Bobyrev>infer --metadata_path \"housing.yml\" --run_parallel false\n"
     ]
    },
    {
     "name": "stderr",
     "output_type": "stream",
     "text": [
      "\u001b[32m2022-12-01 08:58:52.420\u001b[0m | \u001b[1mINFO    \u001b[0m | \u001b[36msyngen.ml.validation_schema.validation_schema\u001b[0m:\u001b[36mvalidate_schema\u001b[0m:\u001b[36m45\u001b[0m - \u001b[1mThe schema of metadata file is valid\u001b[0m\n",
      "\u001b[32m2022-12-01 08:58:52.420\u001b[0m | \u001b[1mINFO    \u001b[0m | \u001b[36msyngen.ml.worker.worker\u001b[0m:\u001b[36m__infer_chain_of_tables\u001b[0m:\u001b[36m168\u001b[0m - \u001b[1mInfer process of the table - pk_test has started.\u001b[0m\n",
      "\u001b[32m2022-12-01 08:58:52.421\u001b[0m | \u001b[1mINFO    \u001b[0m | \u001b[36msyngen.ml.train_chain.train_chain\u001b[0m:\u001b[36mhandle\u001b[0m:\u001b[36m282\u001b[0m - \u001b[1mTotal of 1 batch(es)\u001b[0m\n",
      "\u001b[32m2022-12-01 08:58:52.421\u001b[0m | \u001b[1mINFO    \u001b[0m | \u001b[36msyngen.ml.train_chain.train_chain\u001b[0m:\u001b[36mrun\u001b[0m:\u001b[36m204\u001b[0m - \u001b[1mStart data synthesis\u001b[0m\n",
      "\u001b[32m2022-12-01 08:58:52.698\u001b[0m | \u001b[1mINFO    \u001b[0m | \u001b[36msyngen.ml.vae.wrappers.wrappers\u001b[0m:\u001b[36mload_state\u001b[0m:\u001b[36m303\u001b[0m - \u001b[1mLoaded VAE state from model_artifacts/resources/pk_test/vae/checkpoints\u001b[0m\n",
      "\u001b[32m2022-12-01 08:58:53.228\u001b[0m | \u001b[1mINFO    \u001b[0m | \u001b[36msyngen.ml.train_chain.train_chain\u001b[0m:\u001b[36mhandle\u001b[0m:\u001b[36m304\u001b[0m - \u001b[1mSynthesis of the table - pk_test was completed. Synthetic data saved in model_artifacts/tmp_store/pk_test/merged_infer_pk_test.csv\u001b[0m\n",
      "\u001b[32m2022-12-01 08:58:53.228\u001b[0m | \u001b[1mINFO    \u001b[0m | \u001b[36msyngen.ml.worker.worker\u001b[0m:\u001b[36m__infer_chain_of_tables\u001b[0m:\u001b[36m168\u001b[0m - \u001b[1mInfer process of the table - fk_test has started.\u001b[0m\n",
      "\u001b[32m2022-12-01 08:58:53.228\u001b[0m | \u001b[1mINFO    \u001b[0m | \u001b[36msyngen.ml.train_chain.train_chain\u001b[0m:\u001b[36mhandle\u001b[0m:\u001b[36m282\u001b[0m - \u001b[1mTotal of 1 batch(es)\u001b[0m\n",
      "\u001b[32m2022-12-01 08:58:53.229\u001b[0m | \u001b[1mINFO    \u001b[0m | \u001b[36msyngen.ml.train_chain.train_chain\u001b[0m:\u001b[36mrun\u001b[0m:\u001b[36m204\u001b[0m - \u001b[1mStart data synthesis\u001b[0m\n",
      "\u001b[32m2022-12-01 08:58:53.684\u001b[0m | \u001b[1mINFO    \u001b[0m | \u001b[36msyngen.ml.vae.wrappers.wrappers\u001b[0m:\u001b[36mload_state\u001b[0m:\u001b[36m303\u001b[0m - \u001b[1mLoaded VAE state from model_artifacts/resources/fk_test/vae/checkpoints\u001b[0m\n",
      "\u001b[32m2022-12-01 08:58:54.250\u001b[0m | \u001b[1mINFO    \u001b[0m | \u001b[36msyngen.ml.vae.wrappers.wrappers\u001b[0m:\u001b[36m_restore_nan_values\u001b[0m:\u001b[36m136\u001b[0m - \u001b[1mColumn total_bedrooms_null has 78 (1%) empty values generated.\u001b[0m\n",
      "\u001b[32m2022-12-01 08:58:54.282\u001b[0m | \u001b[1mINFO    \u001b[0m | \u001b[36msyngen.ml.train_chain.train_chain\u001b[0m:\u001b[36mgenerate_keys\u001b[0m:\u001b[36m255\u001b[0m - \u001b[1mThe house_id assigned as a foreign_key feature\u001b[0m\n",
      "\u001b[32m2022-12-01 08:58:56.227\u001b[0m | \u001b[1mINFO    \u001b[0m | \u001b[36msyngen.ml.train_chain.train_chain\u001b[0m:\u001b[36mhandle\u001b[0m:\u001b[36m304\u001b[0m - \u001b[1mSynthesis of the table - fk_test was completed. Synthetic data saved in model_artifacts/tmp_store/fk_test/merged_infer_fk_test.csv\u001b[0m\n"
     ]
    },
    {
     "name": "stdout",
     "output_type": "stream",
     "text": [
      "\n",
      "C:\\Users\\Pavel_Bobyrev>"
     ]
    }
   ],
   "source": [
    "%%cmd\n",
    "\n",
    "infer --metadata_path \"housing.yml\" --run_parallel false"
   ]
  },
  {
   "cell_type": "markdown",
   "id": "4fb9b197-ba1b-44a4-a7ab-f8e579fc6076",
   "metadata": {},
   "source": [
    "When the inference process is completed you will see the log message \"Synthesis of the table - housing was complited. Synthetic data saved in model_artifacts/tmp_store/housing/merged_infer_housing.csv\".\n",
    "\n",
    "That's it! You can find the generated table in the path mentioned above. Let's take a quick glance on the data generated using pandas/"
   ]
  },
  {
   "cell_type": "code",
   "execution_count": 23,
   "id": "e7811573-0522-49d8-85a1-3b81ab897c69",
   "metadata": {},
   "outputs": [],
   "source": [
    "import pandas as pd\n",
    "housing_pk_synth = pd.read_csv(\"./model_artifacts/tmp_store/pk_test/merged_infer_pk_test.csv\")\n",
    "housing_fk_synth = pd.read_csv(\"./model_artifacts/tmp_store/fk_test/merged_infer_fk_test.csv\")"
   ]
  },
  {
   "cell_type": "code",
   "execution_count": 26,
   "id": "efd4e9f3-8a4b-45f9-b7ef-b47362cec277",
   "metadata": {},
   "outputs": [
    {
     "data": {
      "text/html": [
       "<div>\n",
       "<style scoped>\n",
       "    .dataframe tbody tr th:only-of-type {\n",
       "        vertical-align: middle;\n",
       "    }\n",
       "\n",
       "    .dataframe tbody tr th {\n",
       "        vertical-align: top;\n",
       "    }\n",
       "\n",
       "    .dataframe thead th {\n",
       "        text-align: right;\n",
       "    }\n",
       "</style>\n",
       "<table border=\"1\" class=\"dataframe\">\n",
       "  <thead>\n",
       "    <tr style=\"text-align: right;\">\n",
       "      <th></th>\n",
       "      <th>longitude</th>\n",
       "      <th>latitude</th>\n",
       "      <th>house_id</th>\n",
       "    </tr>\n",
       "  </thead>\n",
       "  <tbody>\n",
       "    <tr>\n",
       "      <th>0</th>\n",
       "      <td>-117.297974</td>\n",
       "      <td>34.188610</td>\n",
       "      <td>1</td>\n",
       "    </tr>\n",
       "    <tr>\n",
       "      <th>1</th>\n",
       "      <td>-121.246109</td>\n",
       "      <td>37.631279</td>\n",
       "      <td>2</td>\n",
       "    </tr>\n",
       "    <tr>\n",
       "      <th>2</th>\n",
       "      <td>-119.179214</td>\n",
       "      <td>34.285744</td>\n",
       "      <td>3</td>\n",
       "    </tr>\n",
       "    <tr>\n",
       "      <th>3</th>\n",
       "      <td>-117.969849</td>\n",
       "      <td>33.881950</td>\n",
       "      <td>4</td>\n",
       "    </tr>\n",
       "    <tr>\n",
       "      <th>4</th>\n",
       "      <td>-118.341255</td>\n",
       "      <td>34.113895</td>\n",
       "      <td>5</td>\n",
       "    </tr>\n",
       "  </tbody>\n",
       "</table>\n",
       "</div>"
      ],
      "text/plain": [
       "    longitude   latitude  house_id\n",
       "0 -117.297974  34.188610         1\n",
       "1 -121.246109  37.631279         2\n",
       "2 -119.179214  34.285744         3\n",
       "3 -117.969849  33.881950         4\n",
       "4 -118.341255  34.113895         5"
      ]
     },
     "execution_count": 26,
     "metadata": {},
     "output_type": "execute_result"
    }
   ],
   "source": [
    "housing_pk_synth.head()"
   ]
  },
  {
   "cell_type": "code",
   "execution_count": 27,
   "id": "3a675c37-296d-4ef1-bbba-753cfb07035c",
   "metadata": {},
   "outputs": [
    {
     "data": {
      "text/html": [
       "<div>\n",
       "<style scoped>\n",
       "    .dataframe tbody tr th:only-of-type {\n",
       "        vertical-align: middle;\n",
       "    }\n",
       "\n",
       "    .dataframe tbody tr th {\n",
       "        vertical-align: top;\n",
       "    }\n",
       "\n",
       "    .dataframe thead th {\n",
       "        text-align: right;\n",
       "    }\n",
       "</style>\n",
       "<table border=\"1\" class=\"dataframe\">\n",
       "  <thead>\n",
       "    <tr style=\"text-align: right;\">\n",
       "      <th></th>\n",
       "      <th>housing_median_age</th>\n",
       "      <th>total_rooms</th>\n",
       "      <th>total_bedrooms</th>\n",
       "      <th>population</th>\n",
       "      <th>households</th>\n",
       "      <th>median_income</th>\n",
       "      <th>median_house_value</th>\n",
       "      <th>ocean_proximity</th>\n",
       "      <th>house_id</th>\n",
       "    </tr>\n",
       "  </thead>\n",
       "  <tbody>\n",
       "    <tr>\n",
       "      <th>0</th>\n",
       "      <td>1</td>\n",
       "      <td>3403</td>\n",
       "      <td>484.0</td>\n",
       "      <td>1524</td>\n",
       "      <td>576</td>\n",
       "      <td>5.821095</td>\n",
       "      <td>174728</td>\n",
       "      <td>INLAND</td>\n",
       "      <td>3677</td>\n",
       "    </tr>\n",
       "    <tr>\n",
       "      <th>1</th>\n",
       "      <td>24</td>\n",
       "      <td>2763</td>\n",
       "      <td>567.0</td>\n",
       "      <td>1742</td>\n",
       "      <td>696</td>\n",
       "      <td>3.130805</td>\n",
       "      <td>72542</td>\n",
       "      <td>&lt;1H OCEAN</td>\n",
       "      <td>8701</td>\n",
       "    </tr>\n",
       "    <tr>\n",
       "      <th>2</th>\n",
       "      <td>30</td>\n",
       "      <td>3873</td>\n",
       "      <td>713.0</td>\n",
       "      <td>2180</td>\n",
       "      <td>722</td>\n",
       "      <td>3.736773</td>\n",
       "      <td>133915</td>\n",
       "      <td>NEAR OCEAN</td>\n",
       "      <td>8913</td>\n",
       "    </tr>\n",
       "    <tr>\n",
       "      <th>3</th>\n",
       "      <td>35</td>\n",
       "      <td>2166</td>\n",
       "      <td>394.0</td>\n",
       "      <td>1184</td>\n",
       "      <td>538</td>\n",
       "      <td>4.729632</td>\n",
       "      <td>216947</td>\n",
       "      <td>&lt;1H OCEAN</td>\n",
       "      <td>6615</td>\n",
       "    </tr>\n",
       "    <tr>\n",
       "      <th>4</th>\n",
       "      <td>40</td>\n",
       "      <td>1613</td>\n",
       "      <td>388.0</td>\n",
       "      <td>973</td>\n",
       "      <td>554</td>\n",
       "      <td>6.983237</td>\n",
       "      <td>254557</td>\n",
       "      <td>NEAR BAY</td>\n",
       "      <td>9678</td>\n",
       "    </tr>\n",
       "  </tbody>\n",
       "</table>\n",
       "</div>"
      ],
      "text/plain": [
       "   housing_median_age  total_rooms  total_bedrooms  population  households  \\\n",
       "0                   1         3403           484.0        1524         576   \n",
       "1                  24         2763           567.0        1742         696   \n",
       "2                  30         3873           713.0        2180         722   \n",
       "3                  35         2166           394.0        1184         538   \n",
       "4                  40         1613           388.0         973         554   \n",
       "\n",
       "   median_income  median_house_value ocean_proximity  house_id  \n",
       "0       5.821095              174728          INLAND      3677  \n",
       "1       3.130805               72542       <1H OCEAN      8701  \n",
       "2       3.736773              133915      NEAR OCEAN      8913  \n",
       "3       4.729632              216947       <1H OCEAN      6615  \n",
       "4       6.983237              254557        NEAR BAY      9678  "
      ]
     },
     "execution_count": 27,
     "metadata": {},
     "output_type": "execute_result"
    }
   ],
   "source": [
    "housing_fk_synth.head()"
   ]
  },
  {
   "cell_type": "markdown",
   "id": "582d92e3-1c64-4b30-a928-16ce68efd207",
   "metadata": {},
   "source": [
    "Let's check the constrains for PK and referential integrity."
   ]
  },
  {
   "cell_type": "code",
   "execution_count": 33,
   "id": "3165c022-ee58-4761-a961-9d3ee04d2eac",
   "metadata": {},
   "outputs": [
    {
     "name": "stdout",
     "output_type": "stream",
     "text": [
      "All PK values are unique: True\n"
     ]
    }
   ],
   "source": [
    "print(\"All PK values are unique:\", housing_pk_synth.house_id.nunique() == len(housing_pk_synth))"
   ]
  },
  {
   "cell_type": "code",
   "execution_count": 35,
   "id": "173d44c2-a13a-4a34-9842-85eac02fe798",
   "metadata": {},
   "outputs": [
    {
     "name": "stdout",
     "output_type": "stream",
     "text": [
      "All FK values have corresponding PKs: True\n"
     ]
    }
   ],
   "source": [
    "print(\"All FK values have corresponding PKs:\", sum(housing_fk_synth.house_id.isin(housing_pk_synth.house_id)) == len(housing_fk_synth))"
   ]
  },
  {
   "cell_type": "markdown",
   "id": "e5e40524-f239-4946-8589-62287a430717",
   "metadata": {},
   "source": [
    "Finally, let's check the distribution of the keys. Since the keys generation approach is purely statistical, the possible correlations between tables will not be preserved. However, the distribution of FK will replicate the original one."
   ]
  },
  {
   "cell_type": "code",
   "execution_count": 39,
   "id": "bc6baaaf-7913-4d63-971d-e4a78edfb782",
   "metadata": {},
   "outputs": [
    {
     "data": {
      "text/plain": [
       "<matplotlib.legend.Legend at 0x1f776bec8e0>"
      ]
     },
     "execution_count": 39,
     "metadata": {},
     "output_type": "execute_result"
    },
    {
     "data": {
      "image/png": "[encoded data removed]",
      "text/plain": [
       "<Figure size 432x288 with 1 Axes>"
      ]
     },
     "metadata": {
      "needs_background": "light"
     },
     "output_type": "display_data"
    }
   ],
   "source": [
    "plt.hist(housing_pk_synth.house_id, alpha=0.3, label=\"pk\")\n",
    "plt.hist(housing_fk_synth.house_id, alpha=0.3, label=\"fk\")\n",
    "plt.legend()"
   ]
  },
  {
   "cell_type": "markdown",
   "id": "3e3aa78f-f7df-4843-93bd-5fbd499819e0",
   "metadata": {},
   "source": [
    "The primary keys is replaced with range of values from 1 to len(table), so the distribution of generated PK will always be uniform. However, the FK distribution tryes to maximize its likelihood to the original distribution with given PKs."
   ]
  }
 ],
 "metadata": {
  "kernelspec": {
   "display_name": "Python 3 (ipykernel)",
   "language": "python",
   "name": "python3"
  },
  "language_info": {
   "codemirror_mode": {
    "name": "ipython",
    "version": 3
   },
   "file_extension": ".py",
   "mimetype": "text/x-python",
   "name": "python",
   "nbconvert_exporter": "python",
   "pygments_lexer": "ipython3",
   "version": "3.9.5"
  }
 },
 "nbformat": 4,
 "nbformat_minor": 5
}
